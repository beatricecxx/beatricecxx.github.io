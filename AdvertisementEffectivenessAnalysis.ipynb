{
  "nbformat": 4,
  "nbformat_minor": 0,
  "metadata": {
    "colab": {
      "provenance": [],
      "authorship_tag": "ABX9TyNTCgtcEyDSxXmV5BAlakoL",
      "include_colab_link": true
    },
    "kernelspec": {
      "name": "python3",
      "display_name": "Python 3"
    },
    "language_info": {
      "name": "python"
    }
  },
  "cells": [
    {
      "cell_type": "markdown",
      "metadata": {
        "id": "view-in-github",
        "colab_type": "text"
      },
      "source": [
        "<a href=\"https://colab.research.google.com/github/beatricecxx/beatricecxx.github.io/blob/main/AdvertisementEffectivenessAnalysis.ipynb\" target=\"_parent\"><img src=\"https://colab.research.google.com/assets/colab-badge.svg\" alt=\"Open In Colab\"/></a>"
      ]
    },
    {
      "cell_type": "code",
      "execution_count": null,
      "metadata": {
        "id": "SOCIjcmHPAcn"
      },
      "outputs": [],
      "source": [
        "import pandas as pd\n",
        "import seaborn as sns\n",
        "import matplotlib.pyplot as plt\n",
        "from sklearn.linear_model import LinearRegression"
      ]
    },
    {
      "cell_type": "markdown",
      "source": [
        "In this project, we are trying to estimate the volume of sales based on how much we spend on various social media ads.\n",
        "\n",
        "Business questions:\n",
        "\n",
        "1) How much advertisement budget should we allocate for FB, google and IG ?\n",
        "\n",
        "2) How much sales will we get if don't spend on social media ads ?\n",
        "\n",
        "3) Which areas (large or small, urban or rural or suburban) should we focus our ads on ? What is the expected revenue ?\n"
      ],
      "metadata": {
        "id": "_Mh8GNDWbijf"
      }
    },
    {
      "cell_type": "markdown",
      "source": [
        "# **Data Understanding**\n",
        "\n",
        "First, lets import the dataset and do some basic EDA."
      ],
      "metadata": {
        "id": "rNX5esqUcmoI"
      }
    },
    {
      "cell_type": "code",
      "source": [
        "df = pd.read_excel(\"https://github.com/beatricecxx/DataScienceClass/blob/main/social-ads-raw.xlsx?raw=true\")\n",
        "df.info()\n",
        "df.head()"
      ],
      "metadata": {
        "colab": {
          "base_uri": "https://localhost:8080/",
          "height": 449
        },
        "id": "pQ-0hZ1uRMO4",
        "outputId": "90893c0a-8c53-401a-8119-f0619b8dadc6"
      },
      "execution_count": null,
      "outputs": [
        {
          "output_type": "stream",
          "name": "stdout",
          "text": [
            "<class 'pandas.core.frame.DataFrame'>\n",
            "RangeIndex: 200 entries, 0 to 199\n",
            "Data columns (total 7 columns):\n",
            " #   Column     Non-Null Count  Dtype  \n",
            "---  ------     --------------  -----  \n",
            " 0   segment    200 non-null    int64  \n",
            " 1   google     200 non-null    float64\n",
            " 2   facebook   200 non-null    float64\n",
            " 3   instagram  200 non-null    float64\n",
            " 4   sales      200 non-null    float64\n",
            " 5   size       200 non-null    object \n",
            " 6   area       200 non-null    object \n",
            "dtypes: float64(4), int64(1), object(2)\n",
            "memory usage: 11.1+ KB\n"
          ]
        },
        {
          "output_type": "execute_result",
          "data": {
            "text/plain": [
              "   segment  google  facebook  instagram  sales   size      area\n",
              "0        1   230.1      37.8       69.2   22.1  large     rural\n",
              "1        2    44.5      39.3       45.1   10.4  small     urban\n",
              "2        3    17.2      45.9       69.3    9.3  small     rural\n",
              "3        4   151.5      41.3       58.5   18.5  small     urban\n",
              "4        5   180.8      10.8       58.4   12.9  large  suburban"
            ],
            "text/html": [
              "\n",
              "  <div id=\"df-03e8d64e-9ad9-4498-8b31-247c1165d530\">\n",
              "    <div class=\"colab-df-container\">\n",
              "      <div>\n",
              "<style scoped>\n",
              "    .dataframe tbody tr th:only-of-type {\n",
              "        vertical-align: middle;\n",
              "    }\n",
              "\n",
              "    .dataframe tbody tr th {\n",
              "        vertical-align: top;\n",
              "    }\n",
              "\n",
              "    .dataframe thead th {\n",
              "        text-align: right;\n",
              "    }\n",
              "</style>\n",
              "<table border=\"1\" class=\"dataframe\">\n",
              "  <thead>\n",
              "    <tr style=\"text-align: right;\">\n",
              "      <th></th>\n",
              "      <th>segment</th>\n",
              "      <th>google</th>\n",
              "      <th>facebook</th>\n",
              "      <th>instagram</th>\n",
              "      <th>sales</th>\n",
              "      <th>size</th>\n",
              "      <th>area</th>\n",
              "    </tr>\n",
              "  </thead>\n",
              "  <tbody>\n",
              "    <tr>\n",
              "      <th>0</th>\n",
              "      <td>1</td>\n",
              "      <td>230.1</td>\n",
              "      <td>37.8</td>\n",
              "      <td>69.2</td>\n",
              "      <td>22.1</td>\n",
              "      <td>large</td>\n",
              "      <td>rural</td>\n",
              "    </tr>\n",
              "    <tr>\n",
              "      <th>1</th>\n",
              "      <td>2</td>\n",
              "      <td>44.5</td>\n",
              "      <td>39.3</td>\n",
              "      <td>45.1</td>\n",
              "      <td>10.4</td>\n",
              "      <td>small</td>\n",
              "      <td>urban</td>\n",
              "    </tr>\n",
              "    <tr>\n",
              "      <th>2</th>\n",
              "      <td>3</td>\n",
              "      <td>17.2</td>\n",
              "      <td>45.9</td>\n",
              "      <td>69.3</td>\n",
              "      <td>9.3</td>\n",
              "      <td>small</td>\n",
              "      <td>rural</td>\n",
              "    </tr>\n",
              "    <tr>\n",
              "      <th>3</th>\n",
              "      <td>4</td>\n",
              "      <td>151.5</td>\n",
              "      <td>41.3</td>\n",
              "      <td>58.5</td>\n",
              "      <td>18.5</td>\n",
              "      <td>small</td>\n",
              "      <td>urban</td>\n",
              "    </tr>\n",
              "    <tr>\n",
              "      <th>4</th>\n",
              "      <td>5</td>\n",
              "      <td>180.8</td>\n",
              "      <td>10.8</td>\n",
              "      <td>58.4</td>\n",
              "      <td>12.9</td>\n",
              "      <td>large</td>\n",
              "      <td>suburban</td>\n",
              "    </tr>\n",
              "  </tbody>\n",
              "</table>\n",
              "</div>\n",
              "      <button class=\"colab-df-convert\" onclick=\"convertToInteractive('df-03e8d64e-9ad9-4498-8b31-247c1165d530')\"\n",
              "              title=\"Convert this dataframe to an interactive table.\"\n",
              "              style=\"display:none;\">\n",
              "        \n",
              "  <svg xmlns=\"http://www.w3.org/2000/svg\" height=\"24px\"viewBox=\"0 0 24 24\"\n",
              "       width=\"24px\">\n",
              "    <path d=\"M0 0h24v24H0V0z\" fill=\"none\"/>\n",
              "    <path d=\"M18.56 5.44l.94 2.06.94-2.06 2.06-.94-2.06-.94-.94-2.06-.94 2.06-2.06.94zm-11 1L8.5 8.5l.94-2.06 2.06-.94-2.06-.94L8.5 2.5l-.94 2.06-2.06.94zm10 10l.94 2.06.94-2.06 2.06-.94-2.06-.94-.94-2.06-.94 2.06-2.06.94z\"/><path d=\"M17.41 7.96l-1.37-1.37c-.4-.4-.92-.59-1.43-.59-.52 0-1.04.2-1.43.59L10.3 9.45l-7.72 7.72c-.78.78-.78 2.05 0 2.83L4 21.41c.39.39.9.59 1.41.59.51 0 1.02-.2 1.41-.59l7.78-7.78 2.81-2.81c.8-.78.8-2.07 0-2.86zM5.41 20L4 18.59l7.72-7.72 1.47 1.35L5.41 20z\"/>\n",
              "  </svg>\n",
              "      </button>\n",
              "      \n",
              "  <style>\n",
              "    .colab-df-container {\n",
              "      display:flex;\n",
              "      flex-wrap:wrap;\n",
              "      gap: 12px;\n",
              "    }\n",
              "\n",
              "    .colab-df-convert {\n",
              "      background-color: #E8F0FE;\n",
              "      border: none;\n",
              "      border-radius: 50%;\n",
              "      cursor: pointer;\n",
              "      display: none;\n",
              "      fill: #1967D2;\n",
              "      height: 32px;\n",
              "      padding: 0 0 0 0;\n",
              "      width: 32px;\n",
              "    }\n",
              "\n",
              "    .colab-df-convert:hover {\n",
              "      background-color: #E2EBFA;\n",
              "      box-shadow: 0px 1px 2px rgba(60, 64, 67, 0.3), 0px 1px 3px 1px rgba(60, 64, 67, 0.15);\n",
              "      fill: #174EA6;\n",
              "    }\n",
              "\n",
              "    [theme=dark] .colab-df-convert {\n",
              "      background-color: #3B4455;\n",
              "      fill: #D2E3FC;\n",
              "    }\n",
              "\n",
              "    [theme=dark] .colab-df-convert:hover {\n",
              "      background-color: #434B5C;\n",
              "      box-shadow: 0px 1px 3px 1px rgba(0, 0, 0, 0.15);\n",
              "      filter: drop-shadow(0px 1px 2px rgba(0, 0, 0, 0.3));\n",
              "      fill: #FFFFFF;\n",
              "    }\n",
              "  </style>\n",
              "\n",
              "      <script>\n",
              "        const buttonEl =\n",
              "          document.querySelector('#df-03e8d64e-9ad9-4498-8b31-247c1165d530 button.colab-df-convert');\n",
              "        buttonEl.style.display =\n",
              "          google.colab.kernel.accessAllowed ? 'block' : 'none';\n",
              "\n",
              "        async function convertToInteractive(key) {\n",
              "          const element = document.querySelector('#df-03e8d64e-9ad9-4498-8b31-247c1165d530');\n",
              "          const dataTable =\n",
              "            await google.colab.kernel.invokeFunction('convertToInteractive',\n",
              "                                                     [key], {});\n",
              "          if (!dataTable) return;\n",
              "\n",
              "          const docLinkHtml = 'Like what you see? Visit the ' +\n",
              "            '<a target=\"_blank\" href=https://colab.research.google.com/notebooks/data_table.ipynb>data table notebook</a>'\n",
              "            + ' to learn more about interactive tables.';\n",
              "          element.innerHTML = '';\n",
              "          dataTable['output_type'] = 'display_data';\n",
              "          await google.colab.output.renderOutput(dataTable, element);\n",
              "          const docLink = document.createElement('div');\n",
              "          docLink.innerHTML = docLinkHtml;\n",
              "          element.appendChild(docLink);\n",
              "        }\n",
              "      </script>\n",
              "    </div>\n",
              "  </div>\n",
              "  "
            ]
          },
          "metadata": {},
          "execution_count": 2
        }
      ]
    },
    {
      "cell_type": "code",
      "source": [
        "fig, subs = plt.subplots(1,3, figsize=(15,8))\n",
        "\n",
        "sns.regplot(data=df, x='google', y='sales', ax=subs[0])\n",
        "sns.regplot(data=df, x='facebook', y='sales', ax=subs[1])\n",
        "sns.regplot(data=df, x='instagram', y='sales', ax=subs[2])"
      ],
      "metadata": {
        "colab": {
          "base_uri": "https://localhost:8080/",
          "height": 376
        },
        "id": "Tg9HFhQTJnQ4",
        "outputId": "10d40a2b-1c98-49b3-dc99-f6234b305f0e"
      },
      "execution_count": null,
      "outputs": [
        {
          "output_type": "execute_result",
          "data": {
            "text/plain": [
              "<matplotlib.axes._subplots.AxesSubplot at 0x7fb25b9b90a0>"
            ]
          },
          "metadata": {},
          "execution_count": 3
        },
        {
          "output_type": "display_data",
          "data": {
            "text/plain": [
              "<Figure size 1080x576 with 3 Axes>"
            ],
            "image/png": "[encoded data removed]"
          },
          "metadata": {
            "needs_background": "light"
          }
        }
      ]
    },
    {
      "cell_type": "markdown",
      "source": [
        "Plotting the charts for google, FB and IG, we can check if they have a linear relationship with sales.\n",
        "\n",
        "From here, we can tell that IG does not show a linear relationship with sales based on the graphs more spread out appearance and line of best-fits inaccuracy. Thus, we should allocate less ad budget for IG, tentatively let's say around 10K.\n",
        "\n",
        "On the other hand, Google and FB do show a linear relationship with sales, so we can allocate the remaining 90k budget here. But which one to allocate more? For that we will need to take a more detailed look at their coefficient's values first."
      ],
      "metadata": {
        "id": "tKyTbYNBxS12"
      }
    },
    {
      "cell_type": "markdown",
      "source": [
        "EDA, we perform exploratory data analysis by plotting a chart then we perform modelling, we use LR model to do the prediction"
      ],
      "metadata": {
        "id": "_4zN4CvOc67J"
      }
    },
    {
      "cell_type": "markdown",
      "source": [
        "# **Modelling**\n",
        "\n",
        "For this section, we will be constructing a linear regression model to help estimate the volume of sales based on different budgetting configurations. To do so we can use sales as our target variable and perform some supervised learning using the other columns."
      ],
      "metadata": {
        "id": "liSwUPREx12S"
      }
    },
    {
      "cell_type": "code",
      "source": [
        "#perform LR on these columns data with the sales\n",
        "#if we know how much we allocated for google, FB and IG we can predict the sales iwth LR models\n",
        "#sales is the label here or target variable, what we want to predict\n",
        "#LR model is supervised learning techniques, need to set a label, tell the machine what you want to predict based on what\n",
        "columns =['google', 'facebook', 'instagram']\n",
        "x = df[columns]\n",
        "y = df['sales']\n",
        "model = LinearRegression()\n",
        "model.fit(x,y)"
      ],
      "metadata": {
        "colab": {
          "base_uri": "https://localhost:8080/"
        },
        "id": "zv70OQx9Ou6F",
        "outputId": "92d411f8-a0c8-48d8-eb0e-727214d85eab"
      },
      "execution_count": null,
      "outputs": [
        {
          "output_type": "execute_result",
          "data": {
            "text/plain": [
              "LinearRegression()"
            ]
          },
          "metadata": {},
          "execution_count": 4
        }
      ]
    },
    {
      "cell_type": "markdown",
      "source": [
        "Now we can evaluate the accuracy of the model."
      ],
      "metadata": {
        "id": "3rTCmoAGdL3y"
      }
    },
    {
      "cell_type": "code",
      "source": [
        "#display the R square, to measure the accuracy of the LR models\n",
        "model.score(x,y)"
      ],
      "metadata": {
        "colab": {
          "base_uri": "https://localhost:8080/"
        },
        "id": "6zZJgH9YQwhf",
        "outputId": "85399cbb-86e7-4fd8-c879-73ac03fbe5f5"
      },
      "execution_count": null,
      "outputs": [
        {
          "output_type": "execute_result",
          "data": {
            "text/plain": [
              "0.8972106381789522"
            ]
          },
          "metadata": {},
          "execution_count": 5
        }
      ]
    },
    {
      "cell_type": "code",
      "source": [
        "#calculate intercept & coefficient for each variables google, FB, IG , IG shows negative correlationship with sales\n",
        "#if we did not spend on the ads, intercept give us the value of sales without ads\n",
        "#looking at the coefficient value for google and FB, FB provides stronger +tive coefficient relationship with sales, allocate 50k, then google 4k\n",
        "print(\"Intercept :\", model.intercept_)\n",
        "print(\"Coefficient :\", model.coef_)"
      ],
      "metadata": {
        "colab": {
          "base_uri": "https://localhost:8080/"
        },
        "id": "XUQkf_rSQ577",
        "outputId": "22749769-7a57-4675-d460-c28cefd5b5de"
      },
      "execution_count": null,
      "outputs": [
        {
          "output_type": "stream",
          "name": "stdout",
          "text": [
            "Intercept : 2.938889369459412\n",
            "Coefficient : [ 0.04576465  0.18853002 -0.00103749]\n"
          ]
        }
      ]
    },
    {
      "cell_type": "markdown",
      "source": [
        "In the cell above, we calculate the intercept and coefficients for each variable in our dataset. Surprisingly, the coefficient for IG is very slightly negative, while this may not be enough to justify abandoning IG entirely, the company should definitely cut down on their spending there. Furthermore, since FB has a higher coefficient compared to Google, we can allocate slight more to it, let's say 50k to FB and 40k to Google.\n",
        "\n",
        "Additionally, to answer the question of how much sales the company generates without any ads, we can compute the intercept value, which in this case acts as an estimate for the sales without ads.\n",
        "\n",
        "Next, we can deploy the results of the model prediction and present our findings."
      ],
      "metadata": {
        "id": "h-g_j9fWdewu"
      }
    },
    {
      "cell_type": "code",
      "source": [
        "#using the intercept value we can predict the sales gained if we did not spend a single dollar on the ads\n",
        "#assume the unit price for our product is 5000\n",
        "#y=mx+c\n",
        "#Google\n",
        "\n",
        "unit_price = 5000\n",
        "predicted_sales = 0\n",
        "predicted_sales = (0.04576465 + 2.938889369459412 * 1000) * unit_price\n",
        "print(f\"Google : {predicted_sales:,.2f}\")\n",
        "\n",
        "unit_price = 5000\n",
        "predicted_sales = 0\n",
        "predicted_sales = (0.18853002 + 2.938889369459412 * 1000) * unit_price\n",
        "print(f\"Facebook : {predicted_sales:,.2f}\")\n",
        "\n",
        "unit_price = 5000\n",
        "predicted_sales = 0\n",
        "predicted_sales = (-0.00103749 + 2.938889369459412 * 1000) * unit_price\n",
        "print(f\"Instagram : {predicted_sales:,.2f}\")"
      ],
      "metadata": {
        "colab": {
          "base_uri": "https://localhost:8080/"
        },
        "id": "G7hRCVDySON8",
        "outputId": "7ea03e47-38c3-4d9f-a2e4-d98583549449"
      },
      "execution_count": null,
      "outputs": [
        {
          "output_type": "stream",
          "name": "stdout",
          "text": [
            "Google : 14,694,675.67\n",
            "Facebook : 14,695,389.50\n",
            "Instagram : 14,694,441.66\n"
          ]
        }
      ]
    },
    {
      "cell_type": "markdown",
      "source": [
        "Now we need to perform data preparation here, we do perform data cleaning to make sure we can use LR model later. Thus, we need to remap the size column to 0 or 1\n",
        "\n"
      ],
      "metadata": {
        "id": "Q8vBAgD2dyBa"
      }
    },
    {
      "cell_type": "code",
      "source": [
        "#convert the size column to binary data type that contains 0  and 1 value only with map functions\n",
        "#display the df\n",
        "df['size'] = df['size'].map({\"small\":0, \"large\":1})\n",
        "df"
      ],
      "metadata": {
        "colab": {
          "base_uri": "https://localhost:8080/",
          "height": 423
        },
        "id": "jkKGZsCxTRj2",
        "outputId": "140e3cff-2ea8-493a-88ba-b13921fdda91"
      },
      "execution_count": null,
      "outputs": [
        {
          "output_type": "execute_result",
          "data": {
            "text/plain": [
              "     segment  google  facebook  instagram  sales  size      area\n",
              "0          1   230.1      37.8       69.2   22.1     1     rural\n",
              "1          2    44.5      39.3       45.1   10.4     0     urban\n",
              "2          3    17.2      45.9       69.3    9.3     0     rural\n",
              "3          4   151.5      41.3       58.5   18.5     0     urban\n",
              "4          5   180.8      10.8       58.4   12.9     1  suburban\n",
              "..       ...     ...       ...        ...    ...   ...       ...\n",
              "195      196    38.2       3.7       13.8    7.6     0  suburban\n",
              "196      197    94.2       4.9        8.1    9.7     0     urban\n",
              "197      198   177.0       9.3        6.4   12.8     0  suburban\n",
              "198      199   283.6      42.0       66.2   25.5     0     rural\n",
              "199      200   232.1       8.6        8.7   13.4     1     rural\n",
              "\n",
              "[200 rows x 7 columns]"
            ],
            "text/html": [
              "\n",
              "  <div id=\"df-d5a24487-4617-4709-8087-a3c84bf7c5e0\">\n",
              "    <div class=\"colab-df-container\">\n",
              "      <div>\n",
              "<style scoped>\n",
              "    .dataframe tbody tr th:only-of-type {\n",
              "        vertical-align: middle;\n",
              "    }\n",
              "\n",
              "    .dataframe tbody tr th {\n",
              "        vertical-align: top;\n",
              "    }\n",
              "\n",
              "    .dataframe thead th {\n",
              "        text-align: right;\n",
              "    }\n",
              "</style>\n",
              "<table border=\"1\" class=\"dataframe\">\n",
              "  <thead>\n",
              "    <tr style=\"text-align: right;\">\n",
              "      <th></th>\n",
              "      <th>segment</th>\n",
              "      <th>google</th>\n",
              "      <th>facebook</th>\n",
              "      <th>instagram</th>\n",
              "      <th>sales</th>\n",
              "      <th>size</th>\n",
              "      <th>area</th>\n",
              "    </tr>\n",
              "  </thead>\n",
              "  <tbody>\n",
              "    <tr>\n",
              "      <th>0</th>\n",
              "      <td>1</td>\n",
              "      <td>230.1</td>\n",
              "      <td>37.8</td>\n",
              "      <td>69.2</td>\n",
              "      <td>22.1</td>\n",
              "      <td>1</td>\n",
              "      <td>rural</td>\n",
              "    </tr>\n",
              "    <tr>\n",
              "      <th>1</th>\n",
              "      <td>2</td>\n",
              "      <td>44.5</td>\n",
              "      <td>39.3</td>\n",
              "      <td>45.1</td>\n",
              "      <td>10.4</td>\n",
              "      <td>0</td>\n",
              "      <td>urban</td>\n",
              "    </tr>\n",
              "    <tr>\n",
              "      <th>2</th>\n",
              "      <td>3</td>\n",
              "      <td>17.2</td>\n",
              "      <td>45.9</td>\n",
              "      <td>69.3</td>\n",
              "      <td>9.3</td>\n",
              "      <td>0</td>\n",
              "      <td>rural</td>\n",
              "    </tr>\n",
              "    <tr>\n",
              "      <th>3</th>\n",
              "      <td>4</td>\n",
              "      <td>151.5</td>\n",
              "      <td>41.3</td>\n",
              "      <td>58.5</td>\n",
              "      <td>18.5</td>\n",
              "      <td>0</td>\n",
              "      <td>urban</td>\n",
              "    </tr>\n",
              "    <tr>\n",
              "      <th>4</th>\n",
              "      <td>5</td>\n",
              "      <td>180.8</td>\n",
              "      <td>10.8</td>\n",
              "      <td>58.4</td>\n",
              "      <td>12.9</td>\n",
              "      <td>1</td>\n",
              "      <td>suburban</td>\n",
              "    </tr>\n",
              "    <tr>\n",
              "      <th>...</th>\n",
              "      <td>...</td>\n",
              "      <td>...</td>\n",
              "      <td>...</td>\n",
              "      <td>...</td>\n",
              "      <td>...</td>\n",
              "      <td>...</td>\n",
              "      <td>...</td>\n",
              "    </tr>\n",
              "    <tr>\n",
              "      <th>195</th>\n",
              "      <td>196</td>\n",
              "      <td>38.2</td>\n",
              "      <td>3.7</td>\n",
              "      <td>13.8</td>\n",
              "      <td>7.6</td>\n",
              "      <td>0</td>\n",
              "      <td>suburban</td>\n",
              "    </tr>\n",
              "    <tr>\n",
              "      <th>196</th>\n",
              "      <td>197</td>\n",
              "      <td>94.2</td>\n",
              "      <td>4.9</td>\n",
              "      <td>8.1</td>\n",
              "      <td>9.7</td>\n",
              "      <td>0</td>\n",
              "      <td>urban</td>\n",
              "    </tr>\n",
              "    <tr>\n",
              "      <th>197</th>\n",
              "      <td>198</td>\n",
              "      <td>177.0</td>\n",
              "      <td>9.3</td>\n",
              "      <td>6.4</td>\n",
              "      <td>12.8</td>\n",
              "      <td>0</td>\n",
              "      <td>suburban</td>\n",
              "    </tr>\n",
              "    <tr>\n",
              "      <th>198</th>\n",
              "      <td>199</td>\n",
              "      <td>283.6</td>\n",
              "      <td>42.0</td>\n",
              "      <td>66.2</td>\n",
              "      <td>25.5</td>\n",
              "      <td>0</td>\n",
              "      <td>rural</td>\n",
              "    </tr>\n",
              "    <tr>\n",
              "      <th>199</th>\n",
              "      <td>200</td>\n",
              "      <td>232.1</td>\n",
              "      <td>8.6</td>\n",
              "      <td>8.7</td>\n",
              "      <td>13.4</td>\n",
              "      <td>1</td>\n",
              "      <td>rural</td>\n",
              "    </tr>\n",
              "  </tbody>\n",
              "</table>\n",
              "<p>200 rows × 7 columns</p>\n",
              "</div>\n",
              "      <button class=\"colab-df-convert\" onclick=\"convertToInteractive('df-d5a24487-4617-4709-8087-a3c84bf7c5e0')\"\n",
              "              title=\"Convert this dataframe to an interactive table.\"\n",
              "              style=\"display:none;\">\n",
              "        \n",
              "  <svg xmlns=\"http://www.w3.org/2000/svg\" height=\"24px\"viewBox=\"0 0 24 24\"\n",
              "       width=\"24px\">\n",
              "    <path d=\"M0 0h24v24H0V0z\" fill=\"none\"/>\n",
              "    <path d=\"M18.56 5.44l.94 2.06.94-2.06 2.06-.94-2.06-.94-.94-2.06-.94 2.06-2.06.94zm-11 1L8.5 8.5l.94-2.06 2.06-.94-2.06-.94L8.5 2.5l-.94 2.06-2.06.94zm10 10l.94 2.06.94-2.06 2.06-.94-2.06-.94-.94-2.06-.94 2.06-2.06.94z\"/><path d=\"M17.41 7.96l-1.37-1.37c-.4-.4-.92-.59-1.43-.59-.52 0-1.04.2-1.43.59L10.3 9.45l-7.72 7.72c-.78.78-.78 2.05 0 2.83L4 21.41c.39.39.9.59 1.41.59.51 0 1.02-.2 1.41-.59l7.78-7.78 2.81-2.81c.8-.78.8-2.07 0-2.86zM5.41 20L4 18.59l7.72-7.72 1.47 1.35L5.41 20z\"/>\n",
              "  </svg>\n",
              "      </button>\n",
              "      \n",
              "  <style>\n",
              "    .colab-df-container {\n",
              "      display:flex;\n",
              "      flex-wrap:wrap;\n",
              "      gap: 12px;\n",
              "    }\n",
              "\n",
              "    .colab-df-convert {\n",
              "      background-color: #E8F0FE;\n",
              "      border: none;\n",
              "      border-radius: 50%;\n",
              "      cursor: pointer;\n",
              "      display: none;\n",
              "      fill: #1967D2;\n",
              "      height: 32px;\n",
              "      padding: 0 0 0 0;\n",
              "      width: 32px;\n",
              "    }\n",
              "\n",
              "    .colab-df-convert:hover {\n",
              "      background-color: #E2EBFA;\n",
              "      box-shadow: 0px 1px 2px rgba(60, 64, 67, 0.3), 0px 1px 3px 1px rgba(60, 64, 67, 0.15);\n",
              "      fill: #174EA6;\n",
              "    }\n",
              "\n",
              "    [theme=dark] .colab-df-convert {\n",
              "      background-color: #3B4455;\n",
              "      fill: #D2E3FC;\n",
              "    }\n",
              "\n",
              "    [theme=dark] .colab-df-convert:hover {\n",
              "      background-color: #434B5C;\n",
              "      box-shadow: 0px 1px 3px 1px rgba(0, 0, 0, 0.15);\n",
              "      filter: drop-shadow(0px 1px 2px rgba(0, 0, 0, 0.3));\n",
              "      fill: #FFFFFF;\n",
              "    }\n",
              "  </style>\n",
              "\n",
              "      <script>\n",
              "        const buttonEl =\n",
              "          document.querySelector('#df-d5a24487-4617-4709-8087-a3c84bf7c5e0 button.colab-df-convert');\n",
              "        buttonEl.style.display =\n",
              "          google.colab.kernel.accessAllowed ? 'block' : 'none';\n",
              "\n",
              "        async function convertToInteractive(key) {\n",
              "          const element = document.querySelector('#df-d5a24487-4617-4709-8087-a3c84bf7c5e0');\n",
              "          const dataTable =\n",
              "            await google.colab.kernel.invokeFunction('convertToInteractive',\n",
              "                                                     [key], {});\n",
              "          if (!dataTable) return;\n",
              "\n",
              "          const docLinkHtml = 'Like what you see? Visit the ' +\n",
              "            '<a target=\"_blank\" href=https://colab.research.google.com/notebooks/data_table.ipynb>data table notebook</a>'\n",
              "            + ' to learn more about interactive tables.';\n",
              "          element.innerHTML = '';\n",
              "          dataTable['output_type'] = 'display_data';\n",
              "          await google.colab.output.renderOutput(dataTable, element);\n",
              "          const docLink = document.createElement('div');\n",
              "          docLink.innerHTML = docLinkHtml;\n",
              "          element.appendChild(docLink);\n",
              "        }\n",
              "      </script>\n",
              "    </div>\n",
              "  </div>\n",
              "  "
            ]
          },
          "metadata": {},
          "execution_count": 8
        }
      ]
    },
    {
      "cell_type": "code",
      "source": [
        "#convert the area to numeric value 0 or 1 only for each type using dummies()\n",
        "#display the df\n",
        "df = pd.get_dummies(data=df, columns=['area'])\n",
        "df"
      ],
      "metadata": {
        "colab": {
          "base_uri": "https://localhost:8080/",
          "height": 487
        },
        "id": "Tb1lMWplT8Yp",
        "outputId": "8c4a16bc-0f85-4949-eb25-41d340ec22f2"
      },
      "execution_count": null,
      "outputs": [
        {
          "output_type": "execute_result",
          "data": {
            "text/plain": [
              "     segment  google  facebook  instagram  sales  size  area_rural  \\\n",
              "0          1   230.1      37.8       69.2   22.1     1           1   \n",
              "1          2    44.5      39.3       45.1   10.4     0           0   \n",
              "2          3    17.2      45.9       69.3    9.3     0           1   \n",
              "3          4   151.5      41.3       58.5   18.5     0           0   \n",
              "4          5   180.8      10.8       58.4   12.9     1           0   \n",
              "..       ...     ...       ...        ...    ...   ...         ...   \n",
              "195      196    38.2       3.7       13.8    7.6     0           0   \n",
              "196      197    94.2       4.9        8.1    9.7     0           0   \n",
              "197      198   177.0       9.3        6.4   12.8     0           0   \n",
              "198      199   283.6      42.0       66.2   25.5     0           1   \n",
              "199      200   232.1       8.6        8.7   13.4     1           1   \n",
              "\n",
              "     area_suburban  area_urban  \n",
              "0                0           0  \n",
              "1                0           1  \n",
              "2                0           0  \n",
              "3                0           1  \n",
              "4                1           0  \n",
              "..             ...         ...  \n",
              "195              1           0  \n",
              "196              0           1  \n",
              "197              1           0  \n",
              "198              0           0  \n",
              "199              0           0  \n",
              "\n",
              "[200 rows x 9 columns]"
            ],
            "text/html": [
              "\n",
              "  <div id=\"df-546d6451-571e-4cc5-b47c-be83d0804a5e\">\n",
              "    <div class=\"colab-df-container\">\n",
              "      <div>\n",
              "<style scoped>\n",
              "    .dataframe tbody tr th:only-of-type {\n",
              "        vertical-align: middle;\n",
              "    }\n",
              "\n",
              "    .dataframe tbody tr th {\n",
              "        vertical-align: top;\n",
              "    }\n",
              "\n",
              "    .dataframe thead th {\n",
              "        text-align: right;\n",
              "    }\n",
              "</style>\n",
              "<table border=\"1\" class=\"dataframe\">\n",
              "  <thead>\n",
              "    <tr style=\"text-align: right;\">\n",
              "      <th></th>\n",
              "      <th>segment</th>\n",
              "      <th>google</th>\n",
              "      <th>facebook</th>\n",
              "      <th>instagram</th>\n",
              "      <th>sales</th>\n",
              "      <th>size</th>\n",
              "      <th>area_rural</th>\n",
              "      <th>area_suburban</th>\n",
              "      <th>area_urban</th>\n",
              "    </tr>\n",
              "  </thead>\n",
              "  <tbody>\n",
              "    <tr>\n",
              "      <th>0</th>\n",
              "      <td>1</td>\n",
              "      <td>230.1</td>\n",
              "      <td>37.8</td>\n",
              "      <td>69.2</td>\n",
              "      <td>22.1</td>\n",
              "      <td>1</td>\n",
              "      <td>1</td>\n",
              "      <td>0</td>\n",
              "      <td>0</td>\n",
              "    </tr>\n",
              "    <tr>\n",
              "      <th>1</th>\n",
              "      <td>2</td>\n",
              "      <td>44.5</td>\n",
              "      <td>39.3</td>\n",
              "      <td>45.1</td>\n",
              "      <td>10.4</td>\n",
              "      <td>0</td>\n",
              "      <td>0</td>\n",
              "      <td>0</td>\n",
              "      <td>1</td>\n",
              "    </tr>\n",
              "    <tr>\n",
              "      <th>2</th>\n",
              "      <td>3</td>\n",
              "      <td>17.2</td>\n",
              "      <td>45.9</td>\n",
              "      <td>69.3</td>\n",
              "      <td>9.3</td>\n",
              "      <td>0</td>\n",
              "      <td>1</td>\n",
              "      <td>0</td>\n",
              "      <td>0</td>\n",
              "    </tr>\n",
              "    <tr>\n",
              "      <th>3</th>\n",
              "      <td>4</td>\n",
              "      <td>151.5</td>\n",
              "      <td>41.3</td>\n",
              "      <td>58.5</td>\n",
              "      <td>18.5</td>\n",
              "      <td>0</td>\n",
              "      <td>0</td>\n",
              "      <td>0</td>\n",
              "      <td>1</td>\n",
              "    </tr>\n",
              "    <tr>\n",
              "      <th>4</th>\n",
              "      <td>5</td>\n",
              "      <td>180.8</td>\n",
              "      <td>10.8</td>\n",
              "      <td>58.4</td>\n",
              "      <td>12.9</td>\n",
              "      <td>1</td>\n",
              "      <td>0</td>\n",
              "      <td>1</td>\n",
              "      <td>0</td>\n",
              "    </tr>\n",
              "    <tr>\n",
              "      <th>...</th>\n",
              "      <td>...</td>\n",
              "      <td>...</td>\n",
              "      <td>...</td>\n",
              "      <td>...</td>\n",
              "      <td>...</td>\n",
              "      <td>...</td>\n",
              "      <td>...</td>\n",
              "      <td>...</td>\n",
              "      <td>...</td>\n",
              "    </tr>\n",
              "    <tr>\n",
              "      <th>195</th>\n",
              "      <td>196</td>\n",
              "      <td>38.2</td>\n",
              "      <td>3.7</td>\n",
              "      <td>13.8</td>\n",
              "      <td>7.6</td>\n",
              "      <td>0</td>\n",
              "      <td>0</td>\n",
              "      <td>1</td>\n",
              "      <td>0</td>\n",
              "    </tr>\n",
              "    <tr>\n",
              "      <th>196</th>\n",
              "      <td>197</td>\n",
              "      <td>94.2</td>\n",
              "      <td>4.9</td>\n",
              "      <td>8.1</td>\n",
              "      <td>9.7</td>\n",
              "      <td>0</td>\n",
              "      <td>0</td>\n",
              "      <td>0</td>\n",
              "      <td>1</td>\n",
              "    </tr>\n",
              "    <tr>\n",
              "      <th>197</th>\n",
              "      <td>198</td>\n",
              "      <td>177.0</td>\n",
              "      <td>9.3</td>\n",
              "      <td>6.4</td>\n",
              "      <td>12.8</td>\n",
              "      <td>0</td>\n",
              "      <td>0</td>\n",
              "      <td>1</td>\n",
              "      <td>0</td>\n",
              "    </tr>\n",
              "    <tr>\n",
              "      <th>198</th>\n",
              "      <td>199</td>\n",
              "      <td>283.6</td>\n",
              "      <td>42.0</td>\n",
              "      <td>66.2</td>\n",
              "      <td>25.5</td>\n",
              "      <td>0</td>\n",
              "      <td>1</td>\n",
              "      <td>0</td>\n",
              "      <td>0</td>\n",
              "    </tr>\n",
              "    <tr>\n",
              "      <th>199</th>\n",
              "      <td>200</td>\n",
              "      <td>232.1</td>\n",
              "      <td>8.6</td>\n",
              "      <td>8.7</td>\n",
              "      <td>13.4</td>\n",
              "      <td>1</td>\n",
              "      <td>1</td>\n",
              "      <td>0</td>\n",
              "      <td>0</td>\n",
              "    </tr>\n",
              "  </tbody>\n",
              "</table>\n",
              "<p>200 rows × 9 columns</p>\n",
              "</div>\n",
              "      <button class=\"colab-df-convert\" onclick=\"convertToInteractive('df-546d6451-571e-4cc5-b47c-be83d0804a5e')\"\n",
              "              title=\"Convert this dataframe to an interactive table.\"\n",
              "              style=\"display:none;\">\n",
              "        \n",
              "  <svg xmlns=\"http://www.w3.org/2000/svg\" height=\"24px\"viewBox=\"0 0 24 24\"\n",
              "       width=\"24px\">\n",
              "    <path d=\"M0 0h24v24H0V0z\" fill=\"none\"/>\n",
              "    <path d=\"M18.56 5.44l.94 2.06.94-2.06 2.06-.94-2.06-.94-.94-2.06-.94 2.06-2.06.94zm-11 1L8.5 8.5l.94-2.06 2.06-.94-2.06-.94L8.5 2.5l-.94 2.06-2.06.94zm10 10l.94 2.06.94-2.06 2.06-.94-2.06-.94-.94-2.06-.94 2.06-2.06.94z\"/><path d=\"M17.41 7.96l-1.37-1.37c-.4-.4-.92-.59-1.43-.59-.52 0-1.04.2-1.43.59L10.3 9.45l-7.72 7.72c-.78.78-.78 2.05 0 2.83L4 21.41c.39.39.9.59 1.41.59.51 0 1.02-.2 1.41-.59l7.78-7.78 2.81-2.81c.8-.78.8-2.07 0-2.86zM5.41 20L4 18.59l7.72-7.72 1.47 1.35L5.41 20z\"/>\n",
              "  </svg>\n",
              "      </button>\n",
              "      \n",
              "  <style>\n",
              "    .colab-df-container {\n",
              "      display:flex;\n",
              "      flex-wrap:wrap;\n",
              "      gap: 12px;\n",
              "    }\n",
              "\n",
              "    .colab-df-convert {\n",
              "      background-color: #E8F0FE;\n",
              "      border: none;\n",
              "      border-radius: 50%;\n",
              "      cursor: pointer;\n",
              "      display: none;\n",
              "      fill: #1967D2;\n",
              "      height: 32px;\n",
              "      padding: 0 0 0 0;\n",
              "      width: 32px;\n",
              "    }\n",
              "\n",
              "    .colab-df-convert:hover {\n",
              "      background-color: #E2EBFA;\n",
              "      box-shadow: 0px 1px 2px rgba(60, 64, 67, 0.3), 0px 1px 3px 1px rgba(60, 64, 67, 0.15);\n",
              "      fill: #174EA6;\n",
              "    }\n",
              "\n",
              "    [theme=dark] .colab-df-convert {\n",
              "      background-color: #3B4455;\n",
              "      fill: #D2E3FC;\n",
              "    }\n",
              "\n",
              "    [theme=dark] .colab-df-convert:hover {\n",
              "      background-color: #434B5C;\n",
              "      box-shadow: 0px 1px 3px 1px rgba(0, 0, 0, 0.15);\n",
              "      filter: drop-shadow(0px 1px 2px rgba(0, 0, 0, 0.3));\n",
              "      fill: #FFFFFF;\n",
              "    }\n",
              "  </style>\n",
              "\n",
              "      <script>\n",
              "        const buttonEl =\n",
              "          document.querySelector('#df-546d6451-571e-4cc5-b47c-be83d0804a5e button.colab-df-convert');\n",
              "        buttonEl.style.display =\n",
              "          google.colab.kernel.accessAllowed ? 'block' : 'none';\n",
              "\n",
              "        async function convertToInteractive(key) {\n",
              "          const element = document.querySelector('#df-546d6451-571e-4cc5-b47c-be83d0804a5e');\n",
              "          const dataTable =\n",
              "            await google.colab.kernel.invokeFunction('convertToInteractive',\n",
              "                                                     [key], {});\n",
              "          if (!dataTable) return;\n",
              "\n",
              "          const docLinkHtml = 'Like what you see? Visit the ' +\n",
              "            '<a target=\"_blank\" href=https://colab.research.google.com/notebooks/data_table.ipynb>data table notebook</a>'\n",
              "            + ' to learn more about interactive tables.';\n",
              "          element.innerHTML = '';\n",
              "          dataTable['output_type'] = 'display_data';\n",
              "          await google.colab.output.renderOutput(dataTable, element);\n",
              "          const docLink = document.createElement('div');\n",
              "          docLink.innerHTML = docLinkHtml;\n",
              "          element.appendChild(docLink);\n",
              "        }\n",
              "      </script>\n",
              "    </div>\n",
              "  </div>\n",
              "  "
            ]
          },
          "metadata": {},
          "execution_count": 9
        }
      ]
    },
    {
      "cell_type": "markdown",
      "source": [
        "After perform data cleaning as above, we run the LR model again with more variable included and we evaluate the model results"
      ],
      "metadata": {
        "id": "S9xtOLETeLmz"
      }
    },
    {
      "cell_type": "code",
      "source": [
        "#we can predict the sales amount if we know the value inside the column below using LR models\n",
        "#we need to convert size, area rural, area suburban, area urban to binary types first as what we did before\n",
        "#data preprocesing, clean the data because LR model cannot process text data type\n",
        "#we used LR model to do the prediction\n",
        "#LR model is a supervised learning model, need to set a label or target variable, sales,\n",
        "#we need to specify the value y, sales, what you want to predict here\n",
        "#we want to predict the sales based on the value insdie the column here, if we know X the i can predict y\n",
        "\n",
        "columns = ['google', 'facebook', 'instagram', 'size', 'area_rural', 'area_suburban', 'area_urban']\n",
        "x = df[columns]\n",
        "y = df['sales']\n",
        "\n",
        "from sklearn.linear_model import LinearRegression\n",
        "model = LinearRegression()\n",
        "model.fit(x,y)"
      ],
      "metadata": {
        "colab": {
          "base_uri": "https://localhost:8080/"
        },
        "id": "4J3JHUkfVy1h",
        "outputId": "3369507c-8042-45cc-f321-82f40bdc97fa"
      },
      "execution_count": null,
      "outputs": [
        {
          "output_type": "execute_result",
          "data": {
            "text/plain": [
              "LinearRegression()"
            ]
          },
          "metadata": {},
          "execution_count": 10
        }
      ]
    },
    {
      "cell_type": "code",
      "source": [
        "# R square calculation, to measure the accuracy of the model\n",
        "model.score(x,y)"
      ],
      "metadata": {
        "colab": {
          "base_uri": "https://localhost:8080/"
        },
        "id": "uJNy1JprXQGm",
        "outputId": "710369ef-5701-423e-98a7-18f542b76f98"
      },
      "execution_count": null,
      "outputs": [
        {
          "output_type": "execute_result",
          "data": {
            "text/plain": [
              "0.8981611875394304"
            ]
          },
          "metadata": {},
          "execution_count": 11
        }
      ]
    },
    {
      "cell_type": "code",
      "source": [
        "#calculate the intercept and coefficient\n",
        "print(\"Intercept :\", model.intercept_)\n",
        "print(\"Coefficient :\", model.coef_)"
      ],
      "metadata": {
        "colab": {
          "base_uri": "https://localhost:8080/"
        },
        "id": "QU2jwP71XsRu",
        "outputId": "c1d6f6b8-790b-407e-d7c8-72b05d485e3e"
      },
      "execution_count": null,
      "outputs": [
        {
          "output_type": "stream",
          "name": "stdout",
          "text": [
            "Intercept : 2.9280493329187873\n",
            "Coefficient : [ 0.04574401  0.1878667  -0.0010877   0.07739661 -0.05385834 -0.16042133\n",
            "  0.21427968]\n"
          ]
        }
      ]
    },
    {
      "cell_type": "markdown",
      "source": [
        "Now, we can test our model on different budgetting configurations and present the findings."
      ],
      "metadata": {
        "id": "UhqHcgrIekFS"
      }
    },
    {
      "cell_type": "code",
      "source": [
        "#marketing budget for 100k for small and urban area, 50k on google, 40k on FB and 10k for IG\n",
        "\n",
        "prediction = model.predict([[50, 40, 10, 0, 0 ,0, 1]])\n",
        "print(f\"Model Prediction : {prediction}\")\n",
        "unit_price = 5000\n",
        "expected_revenue = 12.93332037 * 1000 * unit_price\n",
        "print(f\"Expected Revenue : {expected_revenue:,.2f}\")"
      ],
      "metadata": {
        "colab": {
          "base_uri": "https://localhost:8080/"
        },
        "id": "YJcZsvxqYJKj",
        "outputId": "afa189f4-e7bb-4dcc-cb78-445fe60517d5"
      },
      "execution_count": null,
      "outputs": [
        {
          "output_type": "stream",
          "name": "stdout",
          "text": [
            "Model Prediction : [12.93332037]\n",
            "Expected Revenue : 64,666,601.85\n"
          ]
        },
        {
          "output_type": "stream",
          "name": "stderr",
          "text": [
            "/usr/local/lib/python3.8/dist-packages/sklearn/base.py:450: UserWarning: X does not have valid feature names, but LinearRegression was fitted with feature names\n",
            "  warnings.warn(\n"
          ]
        }
      ]
    },
    {
      "cell_type": "code",
      "source": [
        "#marketing budget for 100k for small and rural area, 50k on google, 40k on FB and 10k for IG\n",
        "\n",
        "prediction = model.predict([[50, 40, 10, 0, 1 ,0, 0]])\n",
        "print(f\"Model Prediction : {prediction}\")\n",
        "unit_price = 5000\n",
        "expected_revenue = 12.66518235 * 1000 * unit_price\n",
        "print(f\"Expected Revenue : {expected_revenue:,.2f}\")"
      ],
      "metadata": {
        "colab": {
          "base_uri": "https://localhost:8080/"
        },
        "id": "5kZick7vZIRm",
        "outputId": "288ac0ef-fbf0-476a-cd58-68e30245b3b6"
      },
      "execution_count": null,
      "outputs": [
        {
          "output_type": "stream",
          "name": "stdout",
          "text": [
            "Model Prediction : [12.66518235]\n",
            "Expected Revenue : 63,325,911.75\n"
          ]
        },
        {
          "output_type": "stream",
          "name": "stderr",
          "text": [
            "/usr/local/lib/python3.8/dist-packages/sklearn/base.py:450: UserWarning: X does not have valid feature names, but LinearRegression was fitted with feature names\n",
            "  warnings.warn(\n"
          ]
        }
      ]
    },
    {
      "cell_type": "code",
      "source": [
        "#marketing budget for 100k for large and urban area, 50k on google, 40k on FB and 10k for IG\n",
        "\n",
        "prediction = model.predict([[50, 40, 10, 1, 0 ,0, 1]])\n",
        "print(f\"Model Prediction : {prediction}\")\n",
        "unit_price = 5000\n",
        "expected_revenue = 13.01071698 * 1000 * unit_price\n",
        "print(f\"Expected Revenue : {expected_revenue:,.2f}\")"
      ],
      "metadata": {
        "colab": {
          "base_uri": "https://localhost:8080/"
        },
        "id": "zb9jsuA0ZekK",
        "outputId": "1395f5c2-5e1c-4092-96b4-3859c002dce5"
      },
      "execution_count": null,
      "outputs": [
        {
          "output_type": "stream",
          "name": "stdout",
          "text": [
            "Model Prediction : [13.01071698]\n",
            "Expected Revenue : 65,053,584.90\n"
          ]
        },
        {
          "output_type": "stream",
          "name": "stderr",
          "text": [
            "/usr/local/lib/python3.8/dist-packages/sklearn/base.py:450: UserWarning: X does not have valid feature names, but LinearRegression was fitted with feature names\n",
            "  warnings.warn(\n"
          ]
        }
      ]
    },
    {
      "cell_type": "code",
      "source": [
        "#marketing budget for 100k for small and suburban area, 50k on google, 40k on FB and 10k for IG\n",
        "\n",
        "prediction = model.predict([[50, 40, 10, 1, 0 ,1, 0]])\n",
        "print(f\"Model Prediction : {prediction}\")\n",
        "unit_price = 5000\n",
        "expected_revenue = 12.63601597 * 1000 * unit_price\n",
        "print(f\"Expected Revenue : {expected_revenue:,.2f}\")"
      ],
      "metadata": {
        "colab": {
          "base_uri": "https://localhost:8080/"
        },
        "id": "G-lMS4gcaK2y",
        "outputId": "19a4d4ca-11db-4ff1-ba1a-3bb2f2ab90a3"
      },
      "execution_count": null,
      "outputs": [
        {
          "output_type": "stream",
          "name": "stdout",
          "text": [
            "Model Prediction : [12.63601597]\n",
            "Expected Revenue : 63,180,079.85\n"
          ]
        },
        {
          "output_type": "stream",
          "name": "stderr",
          "text": [
            "/usr/local/lib/python3.8/dist-packages/sklearn/base.py:450: UserWarning: X does not have valid feature names, but LinearRegression was fitted with feature names\n",
            "  warnings.warn(\n"
          ]
        }
      ]
    },
    {
      "cell_type": "code",
      "source": [
        "#marketing budget for 100k for large and rural area, 50k on google, 40k on FB and 10k for IG\n",
        "\n",
        "prediction = model.predict([[50, 40, 10, 1, 1 ,0, 0]])\n",
        "print(f\"Model Prediction : {prediction}\")\n",
        "unit_price = 5000\n",
        "expected_revenue = 12.74257896 * 1000 * unit_price\n",
        "print(f\"Expected Revenue : {expected_revenue:,.2f}\")"
      ],
      "metadata": {
        "colab": {
          "base_uri": "https://localhost:8080/"
        },
        "id": "s8uPlEtKaa62",
        "outputId": "2e850fb0-874f-4213-f3ad-f815256235c8"
      },
      "execution_count": null,
      "outputs": [
        {
          "output_type": "stream",
          "name": "stdout",
          "text": [
            "Model Prediction : [12.74257896]\n",
            "Expected Revenue : 63,712,894.80\n"
          ]
        },
        {
          "output_type": "stream",
          "name": "stderr",
          "text": [
            "/usr/local/lib/python3.8/dist-packages/sklearn/base.py:450: UserWarning: X does not have valid feature names, but LinearRegression was fitted with feature names\n",
            "  warnings.warn(\n"
          ]
        }
      ]
    },
    {
      "cell_type": "code",
      "source": [
        "df.info()"
      ],
      "metadata": {
        "colab": {
          "base_uri": "https://localhost:8080/"
        },
        "id": "EXors112bDJt",
        "outputId": "cb409737-7038-4f52-9ed4-fcdd1892e448"
      },
      "execution_count": null,
      "outputs": [
        {
          "output_type": "stream",
          "name": "stdout",
          "text": [
            "<class 'pandas.core.frame.DataFrame'>\n",
            "RangeIndex: 200 entries, 0 to 199\n",
            "Data columns (total 9 columns):\n",
            " #   Column         Non-Null Count  Dtype  \n",
            "---  ------         --------------  -----  \n",
            " 0   segment        200 non-null    int64  \n",
            " 1   google         200 non-null    float64\n",
            " 2   facebook       200 non-null    float64\n",
            " 3   instagram      200 non-null    float64\n",
            " 4   sales          200 non-null    float64\n",
            " 5   size           200 non-null    int64  \n",
            " 6   area_rural     200 non-null    uint8  \n",
            " 7   area_suburban  200 non-null    uint8  \n",
            " 8   area_urban     200 non-null    uint8  \n",
            "dtypes: float64(4), int64(2), uint8(3)\n",
            "memory usage: 10.1 KB\n"
          ]
        }
      ]
    }
  ]
}